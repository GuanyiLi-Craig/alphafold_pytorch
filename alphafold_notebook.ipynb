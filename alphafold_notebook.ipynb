{
 "cells": [
  {
   "cell_type": "code",
   "execution_count": 1,
   "metadata": {},
   "outputs": [],
   "source": [
    "import torch\n",
    "import time\n",
    "import multiprocessing as mp\n",
    "from alphafold import run_eval, ensemble\n",
    "from datetime import datetime\n",
    "from pathlib import Path"
   ]
  },
  {
   "cell_type": "code",
   "execution_count": 2,
   "metadata": {},
   "outputs": [],
   "source": [
    "target = \"T1019s2\" #\"T0955\" # \"T1020\" # T1019s2.pkl\n",
    "prefix = \".pkl\"  # \".tfrec\" #\n",
    "targetFile=\"test_data/\" + target + prefix\n",
    "modelDir=\"model\"\n",
    "outputDir= target + \"_out\"\n",
    "timestr = datetime.now().strftime('%Y_%m_%d_%H_%M_%S')"
   ]
  },
  {
   "cell_type": "code",
   "execution_count": 3,
   "metadata": {},
   "outputs": [
    {
     "name": "stdout",
     "output_type": "stream",
     "text": [
      "Saving output to T1019s2_out\n"
     ]
    }
   ],
   "source": [
    "print(\"Saving output to \" + outputDir)"
   ]
  },
  {
   "cell_type": "code",
   "execution_count": 4,
   "metadata": {},
   "outputs": [],
   "source": [
    "startTime = time.time()\n",
    "\n",
    "# multi processer\n",
    "ctx = mp.get_context('spawn')\n",
    "numParallelProcesser = 0\n",
    "processes = []\n",
    "\n",
    "# multi gpus\n",
    "isEvenlyDistributed = True\n",
    "isGPU = True\n",
    "\n",
    "devices = []\n",
    "if torch.cuda.is_available() and isGPU :\n",
    "    numDevices = torch.cuda.device_count()\n",
    "    for deviceIndex in range(0, numDevices):\n",
    "        devices.append(\"cuda:\" + str(deviceIndex))\n",
    "else:\n",
    "    devices = [\"cpu\"]\n",
    "\n",
    "target = targetFile.split('/')[-1].split('.')[0]"
   ]
  },
  {
   "cell_type": "code",
   "execution_count": null,
   "metadata": {},
   "outputs": [
    {
     "name": "stdout",
     "output_type": "stream",
     "text": [
      "Lauching model: D 0 on device cuda:0\n",
      "Input file: test_data/T1019s2.pkl\n",
      "Output dir: T1019s2_out/Distogram/0\n",
      "Distogram model: model/873731\n",
      "Replica: 0\n",
      "Device: cuda:0\n",
      "Lauching model: B 0 on device cuda:1\n",
      "Input file: test_data/T1019s2.pkl\n",
      "Output dir: T1019s2_out/Background/0\n",
      "Background model: model/916425\n",
      "Replica: 0\n",
      "Device: cuda:1\n",
      "Lauching model: T 0 on device cuda:0\n",
      "Input file: test_data/T1019s2.pkl\n",
      "Output dir: T1019s2_out/Torsion/0\n",
      "Torsion model: model/941521\n",
      "Replica: 0\n",
      "Device: cuda:0\n",
      "Lauching model: D 1 on device cuda:1\n",
      "Input file: test_data/T1019s2.pkl\n",
      "Output dir: T1019s2_out/Distogram/1\n",
      "Distogram model: model/873731\n",
      "Replica: 1\n",
      "Device: cuda:1\n",
      "Lauching model: B 1 on device cuda:0\n",
      "Input file: test_data/T1019s2.pkl\n",
      "Output dir: T1019s2_out/Background/1\n",
      "Background model: model/916425\n",
      "Replica: 1\n",
      "Device: cuda:0\n",
      "Lauching model: D 2 on device cuda:1\n",
      "Input file: test_data/T1019s2.pkl\n",
      "Output dir: T1019s2_out/Distogram/2\n",
      "Distogram model: model/873731\n",
      "Replica: 2\n",
      "Device: cuda:1\n",
      "Lauching model: B 2 on device cuda:0\n",
      "Input file: test_data/T1019s2.pkl\n",
      "Output dir: T1019s2_out/Background/2\n",
      "Background model: model/916425\n",
      "Replica: 2\n",
      "Device: cuda:0\n",
      "Lauching model: D 3 on device cuda:1\n",
      "Input file: test_data/T1019s2.pkl\n",
      "Output dir: T1019s2_out/Distogram/3\n",
      "Distogram model: model/873731\n",
      "Replica: 3\n",
      "Device: cuda:1\n",
      "Lauching model: B 3 on device cuda:0\n",
      "Input file: test_data/T1019s2.pkl\n",
      "Output dir: T1019s2_out/Background/3\n",
      "Background model: model/916425\n",
      "Replica: 3\n",
      "Device: cuda:0\n"
     ]
    }
   ],
   "source": [
    "# running loop\n",
    "numDevices = len(devices)\n",
    "count = 0\n",
    "\n",
    "for replica in range(0, 4):\n",
    "    mode = [\"D\",\"B\"]\n",
    "    if replica == 0 :\n",
    "        mode = [\"D\",\"B\", \"T\"]\n",
    "        \n",
    "    for m in mode:\n",
    "        device = devices[count % numDevices]\n",
    "        if isEvenlyDistributed:\n",
    "            count = count + 1\n",
    "        print(\"Lauching model: \" + m + \" \" + str(replica) + \" on device \" + device)\n",
    "        \n",
    "        if m == 'D':\n",
    "            modelType = \"Distogram\"\n",
    "            modelPath = Path(modelDir + \"/873731\")\n",
    "        elif m == 'B':\n",
    "            modelType = \"Background\"\n",
    "            modelPath = Path(modelDir + \"/916425\")\n",
    "        elif m == 'T':\n",
    "            modelType = \"Torsion\"\n",
    "            modelPath = Path(modelDir + \"/941521\")\n",
    "            \n",
    "        outDir = outputDir + \"/\" + modelType + \"/\" + str(replica)\n",
    "        Path(outDir).mkdir(parents=True, exist_ok=True)\n",
    "        \n",
    "        print(\"Input file: \" + targetFile)\n",
    "        print(\"Output dir: \" + outDir)\n",
    "        print(modelType + \" model: \" + str(modelPath))\n",
    "        print(\"Replica: \" + str(replica))\n",
    "        print(\"Device: \" + str(device))\n",
    "        # run mode\n",
    "\n",
    "        p = ctx.Process(target=run_eval, args=(targetFile, modelPath, str(replica), Path(outDir), device))\n",
    "        processes.append(p)\n",
    "        p.start()\n",
    "        if len(processes) == numParallelProcesser:\n",
    "            for p in processes:\n",
    "                p.join()\n",
    "            processes = []\n",
    "        # run_eval(targetFile, modelPath, str(replica), Path(outDir), device)\n",
    "if len(processes) > 0:\n",
    "    for p in processes:\n",
    "        p.join()\n",
    "    processes = []\n",
    "\n",
    "print(\"All models have been running for %s seconds ---\" % (time.time() - startTime))"
   ]
  },
  {
   "cell_type": "code",
   "execution_count": 6,
   "metadata": {},
   "outputs": [
    {
     "name": "stdout",
     "output_type": "stream",
     "text": [
      "Ensembling all replica outputs & Pasting contact maps\n"
     ]
    },
    {
     "ename": "FileNotFoundError",
     "evalue": "[Errno 2] No such file or directory: 'T1019s2_out/Distogram/ensemble/T1019s2.distance'",
     "output_type": "error",
     "traceback": [
      "\u001b[0;31m---------------------------------------------------------------------------\u001b[0m",
      "\u001b[0;31mFileNotFoundError\u001b[0m                         Traceback (most recent call last)",
      "\u001b[0;32m<ipython-input-6-336092087bb1>\u001b[0m in \u001b[0;36m<module>\u001b[0;34m\u001b[0m\n\u001b[1;32m      1\u001b[0m \u001b[0mprint\u001b[0m\u001b[0;34m(\u001b[0m\u001b[0;34m\"Ensembling all replica outputs & Pasting contact maps\"\u001b[0m\u001b[0;34m)\u001b[0m\u001b[0;34m\u001b[0m\u001b[0;34m\u001b[0m\u001b[0m\n\u001b[0;32m----> 2\u001b[0;31m \u001b[0mensemble\u001b[0m\u001b[0;34m(\u001b[0m\u001b[0mtargetFile\u001b[0m\u001b[0;34m,\u001b[0m \u001b[0mPath\u001b[0m\u001b[0;34m(\u001b[0m\u001b[0moutputDir\u001b[0m\u001b[0;34m)\u001b[0m\u001b[0;34m)\u001b[0m\u001b[0;34m\u001b[0m\u001b[0;34m\u001b[0m\u001b[0m\n\u001b[0m",
      "\u001b[0;32m/data/git/gl_alphafold_pytorch/alphafold_pytorch/alphafold.py\u001b[0m in \u001b[0;36mensemble\u001b[0;34m(target_path, out_dir)\u001b[0m\n\u001b[1;32m    159\u001b[0m \u001b[0;34m\u001b[0m\u001b[0m\n\u001b[1;32m    160\u001b[0m     \u001b[0;32mfor\u001b[0m \u001b[0mtarget\u001b[0m \u001b[0;32min\u001b[0m \u001b[0mtargets\u001b[0m\u001b[0;34m:\u001b[0m\u001b[0;34m\u001b[0m\u001b[0;34m\u001b[0m\u001b[0m\n\u001b[0;32m--> 161\u001b[0;31m         \u001b[0mcombined_cmap\u001b[0m \u001b[0;34m=\u001b[0m \u001b[0mnp\u001b[0m\u001b[0;34m.\u001b[0m\u001b[0mload\u001b[0m\u001b[0;34m(\u001b[0m\u001b[0mensemble_dir\u001b[0m \u001b[0;34m/\u001b[0m \u001b[0;34mf'{target}.distance'\u001b[0m\u001b[0;34m,\u001b[0m \u001b[0mallow_pickle\u001b[0m\u001b[0;34m=\u001b[0m\u001b[0;32mTrue\u001b[0m\u001b[0;34m)\u001b[0m\u001b[0;34m\u001b[0m\u001b[0;34m\u001b[0m\u001b[0m\n\u001b[0m\u001b[1;32m    162\u001b[0m         \u001b[0mcounter_map\u001b[0m \u001b[0;34m=\u001b[0m \u001b[0mnp\u001b[0m\u001b[0;34m.\u001b[0m\u001b[0mones_like\u001b[0m\u001b[0;34m(\u001b[0m\u001b[0mcombined_cmap\u001b[0m\u001b[0;34m[\u001b[0m\u001b[0;34m:\u001b[0m\u001b[0;34m,\u001b[0m \u001b[0;34m:\u001b[0m\u001b[0;34m,\u001b[0m \u001b[0;36m0\u001b[0m\u001b[0;34m:\u001b[0m\u001b[0;36m1\u001b[0m\u001b[0;34m]\u001b[0m\u001b[0;34m)\u001b[0m\u001b[0;34m\u001b[0m\u001b[0;34m\u001b[0m\u001b[0m\n\u001b[1;32m    163\u001b[0m         \u001b[0mseq\u001b[0m \u001b[0;34m=\u001b[0m \u001b[0mtargets_weight\u001b[0m\u001b[0;34m[\u001b[0m\u001b[0mtarget\u001b[0m\u001b[0;34m]\u001b[0m\u001b[0;34m[\u001b[0m\u001b[0;34m'seq'\u001b[0m\u001b[0;34m]\u001b[0m\u001b[0;34m\u001b[0m\u001b[0;34m\u001b[0m\u001b[0m\n",
      "\u001b[0;32m/usr/local/lib/python3.6/dist-packages/numpy/lib/npyio.py\u001b[0m in \u001b[0;36mload\u001b[0;34m(file, mmap_mode, allow_pickle, fix_imports, encoding)\u001b[0m\n\u001b[1;32m    426\u001b[0m         \u001b[0mown_fid\u001b[0m \u001b[0;34m=\u001b[0m \u001b[0;32mFalse\u001b[0m\u001b[0;34m\u001b[0m\u001b[0;34m\u001b[0m\u001b[0m\n\u001b[1;32m    427\u001b[0m     \u001b[0;32melse\u001b[0m\u001b[0;34m:\u001b[0m\u001b[0;34m\u001b[0m\u001b[0;34m\u001b[0m\u001b[0m\n\u001b[0;32m--> 428\u001b[0;31m         \u001b[0mfid\u001b[0m \u001b[0;34m=\u001b[0m \u001b[0mopen\u001b[0m\u001b[0;34m(\u001b[0m\u001b[0mos_fspath\u001b[0m\u001b[0;34m(\u001b[0m\u001b[0mfile\u001b[0m\u001b[0;34m)\u001b[0m\u001b[0;34m,\u001b[0m \u001b[0;34m\"rb\"\u001b[0m\u001b[0;34m)\u001b[0m\u001b[0;34m\u001b[0m\u001b[0;34m\u001b[0m\u001b[0m\n\u001b[0m\u001b[1;32m    429\u001b[0m         \u001b[0mown_fid\u001b[0m \u001b[0;34m=\u001b[0m \u001b[0;32mTrue\u001b[0m\u001b[0;34m\u001b[0m\u001b[0;34m\u001b[0m\u001b[0m\n\u001b[1;32m    430\u001b[0m \u001b[0;34m\u001b[0m\u001b[0m\n",
      "\u001b[0;31mFileNotFoundError\u001b[0m: [Errno 2] No such file or directory: 'T1019s2_out/Distogram/ensemble/T1019s2.distance'"
     ]
    }
   ],
   "source": [
    "print(\"Ensembling all replica outputs & Pasting contact maps\")\n",
    "ensemble(targetFile, Path(outputDir))"
   ]
  },
  {
   "cell_type": "code",
   "execution_count": null,
   "metadata": {},
   "outputs": [],
   "source": []
  }
 ],
 "metadata": {
  "kernelspec": {
   "display_name": "Python 3",
   "language": "python",
   "name": "python3"
  },
  "language_info": {
   "codemirror_mode": {
    "name": "ipython",
    "version": 3
   },
   "file_extension": ".py",
   "mimetype": "text/x-python",
   "name": "python",
   "nbconvert_exporter": "python",
   "pygments_lexer": "ipython3",
   "version": "3.6.9"
  }
 },
 "nbformat": 4,
 "nbformat_minor": 4
}
